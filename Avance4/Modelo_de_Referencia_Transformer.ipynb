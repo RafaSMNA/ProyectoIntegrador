{
  "cells": [
    {
      "cell_type": "markdown",
      "metadata": {
        "id": "view-in-github",
        "colab_type": "text"
      },
      "source": [
        "<a href=\"https://colab.research.google.com/github/RafaSMNA/ProyectoIntegrador/blob/main/Avance4/Modelo_de_Referencia_Transformer.ipynb\" target=\"_parent\"><img src=\"https://colab.research.google.com/assets/colab-badge.svg\" alt=\"Open In Colab\"/></a>"
      ]
    },
    {
      "cell_type": "markdown",
      "source": [
        "#**Maestría en Inteligencia Artificial Aplicada**\n",
        "##**Curso: Inteligencia Artificial y Aprendizaje Automático**\n",
        "##**Alumno: Rafael Sergio Garcia Martinez A00529676**\n",
        "###Tecnológico de Monterrey\n",
        "\n",
        "# **Proyecto Integrador MNA**\n",
        "## **Avance 4**"
      ],
      "metadata": {
        "id": "NNZKHJn1JBRu"
      }
    },
    {
      "cell_type": "markdown",
      "metadata": {
        "id": "O4K-dPxg8iSw"
      },
      "source": [
        "# TRANSFORMER para la Traducción de Texto\n",
        "\n",
        "**Implementación de un modelo _Transformer_ para la traducción de texto.**"
      ]
    },
    {
      "cell_type": "markdown",
      "metadata": {
        "id": "t5DbIHC-F6Hf"
      },
      "source": [
        "**Basado en**: Implementacion de MLearner: [Repositorio GitHub Libreria MLearner](https://github.com/jaisenbe58r/MLearner)\n",
        "\n",
        "**Referencia**: All you need is Attention https://arxiv.org/pdf/1706.03762.pdf"
      ]
    },
    {
      "cell_type": "markdown",
      "metadata": {
        "id": "m9JJ7FBw84tG"
      },
      "source": [
        "## Importar las dependencias"
      ]
    },
    {
      "cell_type": "code",
      "execution_count": 1,
      "metadata": {
        "id": "ZbcvtPlp3YWu"
      },
      "outputs": [],
      "source": [
        "import os\n",
        "import numpy as np\n",
        "import pandas as pd\n",
        "import re\n",
        "import time\n",
        "\n",
        "from joblib import dump, load"
      ]
    },
    {
      "cell_type": "code",
      "execution_count": 2,
      "metadata": {
        "id": "P6o_cpZz3y_-"
      },
      "outputs": [],
      "source": [
        "import tensorflow as tf\n",
        "\n",
        "from tensorflow.keras import layers\n",
        "import tensorflow_datasets as tfds"
      ]
    },
    {
      "cell_type": "code",
      "source": [
        "#Dependencias de MLearner\n",
        "%run transformer.py\n",
        "%run utils.py"
      ],
      "metadata": {
        "id": "38Id_mIx8kJp"
      },
      "execution_count": 3,
      "outputs": []
    },
    {
      "cell_type": "code",
      "execution_count": null,
      "metadata": {
        "id": "rYHeLuN58iS0"
      },
      "outputs": [],
      "source": [
        "#%load_ext autoreload\n",
        "#%autoreload 2\n",
        "\n",
        "#%matplotlib inline"
      ]
    },
    {
      "cell_type": "code",
      "execution_count": 25,
      "metadata": {
        "id": "HvTVhABq8iS1"
      },
      "outputs": [],
      "source": [
        "TRAIN = True"
      ]
    },
    {
      "cell_type": "markdown",
      "metadata": {
        "id": "BQN8jwx48_yU"
      },
      "source": [
        "## Pre Procesado de Datos\n",
        "\n"
      ]
    },
    {
      "cell_type": "markdown",
      "metadata": {
        "id": "bPlOT-2mlw0r"
      },
      "source": [
        "## Lectura de Archivos"
      ]
    },
    {
      "cell_type": "code",
      "execution_count": 4,
      "metadata": {
        "id": "q8Or0sLV5b8t"
      },
      "outputs": [],
      "source": [
        "with open(\"frases-v1.en\",\n",
        "          mode = \"r\", encoding = \"utf-8\") as f:\n",
        "    frases_en = f.read()\n",
        "with open(\"frases-v1.es\",\n",
        "          mode = \"r\", encoding = \"utf-8\") as f:\n",
        "    frases_es = f.read()\n",
        "with open(\"P85-Non-Breaking-Prefix.en\",\n",
        "          mode = \"r\", encoding = \"utf-8\") as f:\n",
        "    non_breaking_prefix_en = f.read()\n",
        "with open(\"P85-Non-Breaking-Prefix.es\",\n",
        "          mode = \"r\", encoding = \"utf-8\") as f:\n",
        "    non_breaking_prefix_es = f.read()"
      ]
    },
    {
      "cell_type": "code",
      "execution_count": 5,
      "metadata": {
        "id": "TMAFFdpIyNZd",
        "colab": {
          "base_uri": "https://localhost:8080/",
          "height": 53
        },
        "outputId": "63578f61-3445-4ec0-9e3c-432ded9c4821"
      },
      "outputs": [
        {
          "output_type": "execute_result",
          "data": {
            "text/plain": [
              "\"The nine the eggs, I keep.\\nI did go, and made many prisoners.\\nThat I owe my thanks to you.\\nThey went up to the dark mass job had pointed out.\\nClear than clear water!\\nAndy what's the gyre and to gimble.\\nI'm as bad as I can be.\""
            ],
            "application/vnd.google.colaboratory.intrinsic+json": {
              "type": "string"
            }
          },
          "metadata": {},
          "execution_count": 5
        }
      ],
      "source": [
        "frases_en[:225]"
      ]
    },
    {
      "cell_type": "code",
      "execution_count": 6,
      "metadata": {
        "id": "BYgCMq6myYIi",
        "colab": {
          "base_uri": "https://localhost:8080/",
          "height": 53
        },
        "outputId": "406a10ef-4fc2-4696-cadc-5659a190b3e3"
      },
      "outputs": [
        {
          "output_type": "execute_result",
          "data": {
            "text/plain": [
              "'Los nueve huevos, me los quedo.\\nFui, e hice muchos prisioneros.\\nQue te debo mi agradecimiento.\\nSubieron a la misa oscura que Job les había señalado.\\n¡Más clara que el agua clara!\\nAndy, ¿qué es el giro y el gimble?\\nSoy tan malo como puedo ser.'"
            ],
            "application/vnd.google.colaboratory.intrinsic+json": {
              "type": "string"
            }
          },
          "metadata": {},
          "execution_count": 6
        }
      ],
      "source": [
        "frases_es[:242]"
      ]
    },
    {
      "cell_type": "markdown",
      "metadata": {
        "id": "TEFw0D2vP_Dl"
      },
      "source": [
        "## Limpieza de datos"
      ]
    },
    {
      "cell_type": "code",
      "execution_count": 7,
      "metadata": {
        "id": "zh-pcvaL8iS2"
      },
      "outputs": [],
      "source": [
        "# Funcion para procesar texto con expresiones regulares\n",
        "def Function_clean(text):\n",
        "\n",
        "    # Eliminamos la @ y su mención\n",
        "    text = re.sub(r\"@[A-Za-z0-9]+\", ' ', text)\n",
        "    # Eliminamos los links de las URLs\n",
        "    text = re.sub(r\"https?://[A-Za-z0-9./]+\", ' ', text)\n",
        "    return text\n"
      ]
    },
    {
      "cell_type": "markdown",
      "metadata": {
        "id": "UEJgbDXS8iS2"
      },
      "source": [
        "Se procesan los textos para cada uno de los idiomas:"
      ]
    },
    {
      "cell_type": "code",
      "execution_count": 8,
      "metadata": {
        "id": "8W7rbP0l8iS2"
      },
      "outputs": [],
      "source": [
        "processor_en = Processor_data(target_vocab_size=2**13,\n",
        "                              language=\"en\",\n",
        "                              function = Function_clean,\n",
        "                              name=\"processor_en\",\n",
        "                             )\n",
        "processor_es = Processor_data(target_vocab_size=2**13,\n",
        "                              language=\"es\",\n",
        "                              function = Function_clean,\n",
        "                              name=\"processor_es\"\n",
        "                              )"
      ]
    },
    {
      "cell_type": "code",
      "execution_count": 9,
      "metadata": {
        "id": "dy50806z8iS2"
      },
      "outputs": [],
      "source": [
        "if not os.path.isfile(\"corpus_en.csv\"):\n",
        "    corpus_en = frases_en\n",
        "    corpus_en = processor_en.clean(corpus_en)\n",
        "    pd.DataFrame(corpus_en).to_csv(\"corpus_en.csv\", index=False)\n",
        "\n",
        "if not os.path.isfile(\"corpus_es.csv\"):\n",
        "    corpus_es = frases_es\n",
        "    corpus_es = processor_es.clean(corpus_es)\n",
        "    pd.DataFrame(corpus_es).to_csv(\"corpus_es.csv\", index=False)\n",
        "\n",
        "corpus_en = pd.read_csv(\"corpus_en.csv\")\n",
        "corpus_es = pd.read_csv(\"corpus_es.csv\")"
      ]
    },
    {
      "cell_type": "markdown",
      "metadata": {
        "id": "FyoOC63X8iS2"
      },
      "source": [
        "Exploramos los textos para cada idioma:"
      ]
    },
    {
      "cell_type": "code",
      "execution_count": 10,
      "metadata": {
        "id": "cDX-_Ths8iS2",
        "colab": {
          "base_uri": "https://localhost:8080/",
          "height": 112
        },
        "outputId": "a5ef7ff3-ca5d-48b1-ed96-d557b2903c17"
      },
      "outputs": [
        {
          "output_type": "execute_result",
          "data": {
            "text/plain": [
              "                                    0\n",
              "0          The nine the eggs, I keep.\n",
              "1  I did go, and made many prisoners."
            ],
            "text/html": [
              "\n",
              "  <div id=\"df-67e134da-2846-4ce6-9f92-459a6224d1cd\" class=\"colab-df-container\">\n",
              "    <div>\n",
              "<style scoped>\n",
              "    .dataframe tbody tr th:only-of-type {\n",
              "        vertical-align: middle;\n",
              "    }\n",
              "\n",
              "    .dataframe tbody tr th {\n",
              "        vertical-align: top;\n",
              "    }\n",
              "\n",
              "    .dataframe thead th {\n",
              "        text-align: right;\n",
              "    }\n",
              "</style>\n",
              "<table border=\"1\" class=\"dataframe\">\n",
              "  <thead>\n",
              "    <tr style=\"text-align: right;\">\n",
              "      <th></th>\n",
              "      <th>0</th>\n",
              "    </tr>\n",
              "  </thead>\n",
              "  <tbody>\n",
              "    <tr>\n",
              "      <th>0</th>\n",
              "      <td>The nine the eggs, I keep.</td>\n",
              "    </tr>\n",
              "    <tr>\n",
              "      <th>1</th>\n",
              "      <td>I did go, and made many prisoners.</td>\n",
              "    </tr>\n",
              "  </tbody>\n",
              "</table>\n",
              "</div>\n",
              "    <div class=\"colab-df-buttons\">\n",
              "\n",
              "  <div class=\"colab-df-container\">\n",
              "    <button class=\"colab-df-convert\" onclick=\"convertToInteractive('df-67e134da-2846-4ce6-9f92-459a6224d1cd')\"\n",
              "            title=\"Convert this dataframe to an interactive table.\"\n",
              "            style=\"display:none;\">\n",
              "\n",
              "  <svg xmlns=\"http://www.w3.org/2000/svg\" height=\"24px\" viewBox=\"0 -960 960 960\">\n",
              "    <path d=\"M120-120v-720h720v720H120Zm60-500h600v-160H180v160Zm220 220h160v-160H400v160Zm0 220h160v-160H400v160ZM180-400h160v-160H180v160Zm440 0h160v-160H620v160ZM180-180h160v-160H180v160Zm440 0h160v-160H620v160Z\"/>\n",
              "  </svg>\n",
              "    </button>\n",
              "\n",
              "  <style>\n",
              "    .colab-df-container {\n",
              "      display:flex;\n",
              "      gap: 12px;\n",
              "    }\n",
              "\n",
              "    .colab-df-convert {\n",
              "      background-color: #E8F0FE;\n",
              "      border: none;\n",
              "      border-radius: 50%;\n",
              "      cursor: pointer;\n",
              "      display: none;\n",
              "      fill: #1967D2;\n",
              "      height: 32px;\n",
              "      padding: 0 0 0 0;\n",
              "      width: 32px;\n",
              "    }\n",
              "\n",
              "    .colab-df-convert:hover {\n",
              "      background-color: #E2EBFA;\n",
              "      box-shadow: 0px 1px 2px rgba(60, 64, 67, 0.3), 0px 1px 3px 1px rgba(60, 64, 67, 0.15);\n",
              "      fill: #174EA6;\n",
              "    }\n",
              "\n",
              "    .colab-df-buttons div {\n",
              "      margin-bottom: 4px;\n",
              "    }\n",
              "\n",
              "    [theme=dark] .colab-df-convert {\n",
              "      background-color: #3B4455;\n",
              "      fill: #D2E3FC;\n",
              "    }\n",
              "\n",
              "    [theme=dark] .colab-df-convert:hover {\n",
              "      background-color: #434B5C;\n",
              "      box-shadow: 0px 1px 3px 1px rgba(0, 0, 0, 0.15);\n",
              "      filter: drop-shadow(0px 1px 2px rgba(0, 0, 0, 0.3));\n",
              "      fill: #FFFFFF;\n",
              "    }\n",
              "  </style>\n",
              "\n",
              "    <script>\n",
              "      const buttonEl =\n",
              "        document.querySelector('#df-67e134da-2846-4ce6-9f92-459a6224d1cd button.colab-df-convert');\n",
              "      buttonEl.style.display =\n",
              "        google.colab.kernel.accessAllowed ? 'block' : 'none';\n",
              "\n",
              "      async function convertToInteractive(key) {\n",
              "        const element = document.querySelector('#df-67e134da-2846-4ce6-9f92-459a6224d1cd');\n",
              "        const dataTable =\n",
              "          await google.colab.kernel.invokeFunction('convertToInteractive',\n",
              "                                                    [key], {});\n",
              "        if (!dataTable) return;\n",
              "\n",
              "        const docLinkHtml = 'Like what you see? Visit the ' +\n",
              "          '<a target=\"_blank\" href=https://colab.research.google.com/notebooks/data_table.ipynb>data table notebook</a>'\n",
              "          + ' to learn more about interactive tables.';\n",
              "        element.innerHTML = '';\n",
              "        dataTable['output_type'] = 'display_data';\n",
              "        await google.colab.output.renderOutput(dataTable, element);\n",
              "        const docLink = document.createElement('div');\n",
              "        docLink.innerHTML = docLinkHtml;\n",
              "        element.appendChild(docLink);\n",
              "      }\n",
              "    </script>\n",
              "  </div>\n",
              "\n",
              "\n",
              "<div id=\"df-e9d60c11-efde-4ace-b9b4-7b38f848bcee\">\n",
              "  <button class=\"colab-df-quickchart\" onclick=\"quickchart('df-e9d60c11-efde-4ace-b9b4-7b38f848bcee')\"\n",
              "            title=\"Suggest charts\"\n",
              "            style=\"display:none;\">\n",
              "\n",
              "<svg xmlns=\"http://www.w3.org/2000/svg\" height=\"24px\"viewBox=\"0 0 24 24\"\n",
              "     width=\"24px\">\n",
              "    <g>\n",
              "        <path d=\"M19 3H5c-1.1 0-2 .9-2 2v14c0 1.1.9 2 2 2h14c1.1 0 2-.9 2-2V5c0-1.1-.9-2-2-2zM9 17H7v-7h2v7zm4 0h-2V7h2v10zm4 0h-2v-4h2v4z\"/>\n",
              "    </g>\n",
              "</svg>\n",
              "  </button>\n",
              "\n",
              "<style>\n",
              "  .colab-df-quickchart {\n",
              "      --bg-color: #E8F0FE;\n",
              "      --fill-color: #1967D2;\n",
              "      --hover-bg-color: #E2EBFA;\n",
              "      --hover-fill-color: #174EA6;\n",
              "      --disabled-fill-color: #AAA;\n",
              "      --disabled-bg-color: #DDD;\n",
              "  }\n",
              "\n",
              "  [theme=dark] .colab-df-quickchart {\n",
              "      --bg-color: #3B4455;\n",
              "      --fill-color: #D2E3FC;\n",
              "      --hover-bg-color: #434B5C;\n",
              "      --hover-fill-color: #FFFFFF;\n",
              "      --disabled-bg-color: #3B4455;\n",
              "      --disabled-fill-color: #666;\n",
              "  }\n",
              "\n",
              "  .colab-df-quickchart {\n",
              "    background-color: var(--bg-color);\n",
              "    border: none;\n",
              "    border-radius: 50%;\n",
              "    cursor: pointer;\n",
              "    display: none;\n",
              "    fill: var(--fill-color);\n",
              "    height: 32px;\n",
              "    padding: 0;\n",
              "    width: 32px;\n",
              "  }\n",
              "\n",
              "  .colab-df-quickchart:hover {\n",
              "    background-color: var(--hover-bg-color);\n",
              "    box-shadow: 0 1px 2px rgba(60, 64, 67, 0.3), 0 1px 3px 1px rgba(60, 64, 67, 0.15);\n",
              "    fill: var(--button-hover-fill-color);\n",
              "  }\n",
              "\n",
              "  .colab-df-quickchart-complete:disabled,\n",
              "  .colab-df-quickchart-complete:disabled:hover {\n",
              "    background-color: var(--disabled-bg-color);\n",
              "    fill: var(--disabled-fill-color);\n",
              "    box-shadow: none;\n",
              "  }\n",
              "\n",
              "  .colab-df-spinner {\n",
              "    border: 2px solid var(--fill-color);\n",
              "    border-color: transparent;\n",
              "    border-bottom-color: var(--fill-color);\n",
              "    animation:\n",
              "      spin 1s steps(1) infinite;\n",
              "  }\n",
              "\n",
              "  @keyframes spin {\n",
              "    0% {\n",
              "      border-color: transparent;\n",
              "      border-bottom-color: var(--fill-color);\n",
              "      border-left-color: var(--fill-color);\n",
              "    }\n",
              "    20% {\n",
              "      border-color: transparent;\n",
              "      border-left-color: var(--fill-color);\n",
              "      border-top-color: var(--fill-color);\n",
              "    }\n",
              "    30% {\n",
              "      border-color: transparent;\n",
              "      border-left-color: var(--fill-color);\n",
              "      border-top-color: var(--fill-color);\n",
              "      border-right-color: var(--fill-color);\n",
              "    }\n",
              "    40% {\n",
              "      border-color: transparent;\n",
              "      border-right-color: var(--fill-color);\n",
              "      border-top-color: var(--fill-color);\n",
              "    }\n",
              "    60% {\n",
              "      border-color: transparent;\n",
              "      border-right-color: var(--fill-color);\n",
              "    }\n",
              "    80% {\n",
              "      border-color: transparent;\n",
              "      border-right-color: var(--fill-color);\n",
              "      border-bottom-color: var(--fill-color);\n",
              "    }\n",
              "    90% {\n",
              "      border-color: transparent;\n",
              "      border-bottom-color: var(--fill-color);\n",
              "    }\n",
              "  }\n",
              "</style>\n",
              "\n",
              "  <script>\n",
              "    async function quickchart(key) {\n",
              "      const quickchartButtonEl =\n",
              "        document.querySelector('#' + key + ' button');\n",
              "      quickchartButtonEl.disabled = true;  // To prevent multiple clicks.\n",
              "      quickchartButtonEl.classList.add('colab-df-spinner');\n",
              "      try {\n",
              "        const charts = await google.colab.kernel.invokeFunction(\n",
              "            'suggestCharts', [key], {});\n",
              "      } catch (error) {\n",
              "        console.error('Error during call to suggestCharts:', error);\n",
              "      }\n",
              "      quickchartButtonEl.classList.remove('colab-df-spinner');\n",
              "      quickchartButtonEl.classList.add('colab-df-quickchart-complete');\n",
              "    }\n",
              "    (() => {\n",
              "      let quickchartButtonEl =\n",
              "        document.querySelector('#df-e9d60c11-efde-4ace-b9b4-7b38f848bcee button');\n",
              "      quickchartButtonEl.style.display =\n",
              "        google.colab.kernel.accessAllowed ? 'block' : 'none';\n",
              "    })();\n",
              "  </script>\n",
              "</div>\n",
              "    </div>\n",
              "  </div>\n"
            ],
            "application/vnd.google.colaboratory.intrinsic+json": {
              "type": "dataframe",
              "summary": "{\n  \"name\": \"corpus_en[0:2]\",\n  \"rows\": 2,\n  \"fields\": [\n    {\n      \"column\": \"0\",\n      \"properties\": {\n        \"dtype\": \"string\",\n        \"num_unique_values\": 2,\n        \"samples\": [\n          \"I did go, and made many prisoners.\",\n          \"The nine the eggs, I keep.\"\n        ],\n        \"semantic_type\": \"\",\n        \"description\": \"\"\n      }\n    }\n  ]\n}"
            }
          },
          "metadata": {},
          "execution_count": 10
        }
      ],
      "source": [
        "corpus_en[0:2]"
      ]
    },
    {
      "cell_type": "code",
      "execution_count": 11,
      "metadata": {
        "id": "ghIVdK2k8iS2",
        "colab": {
          "base_uri": "https://localhost:8080/",
          "height": 112
        },
        "outputId": "77b53347-0e37-4ced-cf44-7bd57e312a65"
      },
      "outputs": [
        {
          "output_type": "execute_result",
          "data": {
            "text/plain": [
              "                                 0\n",
              "0  Los nueve huevos, me los quedo.\n",
              "1  Fui, e hice muchos prisioneros."
            ],
            "text/html": [
              "\n",
              "  <div id=\"df-de7176fb-88b8-4768-a0fb-9377d7c75a19\" class=\"colab-df-container\">\n",
              "    <div>\n",
              "<style scoped>\n",
              "    .dataframe tbody tr th:only-of-type {\n",
              "        vertical-align: middle;\n",
              "    }\n",
              "\n",
              "    .dataframe tbody tr th {\n",
              "        vertical-align: top;\n",
              "    }\n",
              "\n",
              "    .dataframe thead th {\n",
              "        text-align: right;\n",
              "    }\n",
              "</style>\n",
              "<table border=\"1\" class=\"dataframe\">\n",
              "  <thead>\n",
              "    <tr style=\"text-align: right;\">\n",
              "      <th></th>\n",
              "      <th>0</th>\n",
              "    </tr>\n",
              "  </thead>\n",
              "  <tbody>\n",
              "    <tr>\n",
              "      <th>0</th>\n",
              "      <td>Los nueve huevos, me los quedo.</td>\n",
              "    </tr>\n",
              "    <tr>\n",
              "      <th>1</th>\n",
              "      <td>Fui, e hice muchos prisioneros.</td>\n",
              "    </tr>\n",
              "  </tbody>\n",
              "</table>\n",
              "</div>\n",
              "    <div class=\"colab-df-buttons\">\n",
              "\n",
              "  <div class=\"colab-df-container\">\n",
              "    <button class=\"colab-df-convert\" onclick=\"convertToInteractive('df-de7176fb-88b8-4768-a0fb-9377d7c75a19')\"\n",
              "            title=\"Convert this dataframe to an interactive table.\"\n",
              "            style=\"display:none;\">\n",
              "\n",
              "  <svg xmlns=\"http://www.w3.org/2000/svg\" height=\"24px\" viewBox=\"0 -960 960 960\">\n",
              "    <path d=\"M120-120v-720h720v720H120Zm60-500h600v-160H180v160Zm220 220h160v-160H400v160Zm0 220h160v-160H400v160ZM180-400h160v-160H180v160Zm440 0h160v-160H620v160ZM180-180h160v-160H180v160Zm440 0h160v-160H620v160Z\"/>\n",
              "  </svg>\n",
              "    </button>\n",
              "\n",
              "  <style>\n",
              "    .colab-df-container {\n",
              "      display:flex;\n",
              "      gap: 12px;\n",
              "    }\n",
              "\n",
              "    .colab-df-convert {\n",
              "      background-color: #E8F0FE;\n",
              "      border: none;\n",
              "      border-radius: 50%;\n",
              "      cursor: pointer;\n",
              "      display: none;\n",
              "      fill: #1967D2;\n",
              "      height: 32px;\n",
              "      padding: 0 0 0 0;\n",
              "      width: 32px;\n",
              "    }\n",
              "\n",
              "    .colab-df-convert:hover {\n",
              "      background-color: #E2EBFA;\n",
              "      box-shadow: 0px 1px 2px rgba(60, 64, 67, 0.3), 0px 1px 3px 1px rgba(60, 64, 67, 0.15);\n",
              "      fill: #174EA6;\n",
              "    }\n",
              "\n",
              "    .colab-df-buttons div {\n",
              "      margin-bottom: 4px;\n",
              "    }\n",
              "\n",
              "    [theme=dark] .colab-df-convert {\n",
              "      background-color: #3B4455;\n",
              "      fill: #D2E3FC;\n",
              "    }\n",
              "\n",
              "    [theme=dark] .colab-df-convert:hover {\n",
              "      background-color: #434B5C;\n",
              "      box-shadow: 0px 1px 3px 1px rgba(0, 0, 0, 0.15);\n",
              "      filter: drop-shadow(0px 1px 2px rgba(0, 0, 0, 0.3));\n",
              "      fill: #FFFFFF;\n",
              "    }\n",
              "  </style>\n",
              "\n",
              "    <script>\n",
              "      const buttonEl =\n",
              "        document.querySelector('#df-de7176fb-88b8-4768-a0fb-9377d7c75a19 button.colab-df-convert');\n",
              "      buttonEl.style.display =\n",
              "        google.colab.kernel.accessAllowed ? 'block' : 'none';\n",
              "\n",
              "      async function convertToInteractive(key) {\n",
              "        const element = document.querySelector('#df-de7176fb-88b8-4768-a0fb-9377d7c75a19');\n",
              "        const dataTable =\n",
              "          await google.colab.kernel.invokeFunction('convertToInteractive',\n",
              "                                                    [key], {});\n",
              "        if (!dataTable) return;\n",
              "\n",
              "        const docLinkHtml = 'Like what you see? Visit the ' +\n",
              "          '<a target=\"_blank\" href=https://colab.research.google.com/notebooks/data_table.ipynb>data table notebook</a>'\n",
              "          + ' to learn more about interactive tables.';\n",
              "        element.innerHTML = '';\n",
              "        dataTable['output_type'] = 'display_data';\n",
              "        await google.colab.output.renderOutput(dataTable, element);\n",
              "        const docLink = document.createElement('div');\n",
              "        docLink.innerHTML = docLinkHtml;\n",
              "        element.appendChild(docLink);\n",
              "      }\n",
              "    </script>\n",
              "  </div>\n",
              "\n",
              "\n",
              "<div id=\"df-dab61750-8011-430c-8f26-aac0b2438ae9\">\n",
              "  <button class=\"colab-df-quickchart\" onclick=\"quickchart('df-dab61750-8011-430c-8f26-aac0b2438ae9')\"\n",
              "            title=\"Suggest charts\"\n",
              "            style=\"display:none;\">\n",
              "\n",
              "<svg xmlns=\"http://www.w3.org/2000/svg\" height=\"24px\"viewBox=\"0 0 24 24\"\n",
              "     width=\"24px\">\n",
              "    <g>\n",
              "        <path d=\"M19 3H5c-1.1 0-2 .9-2 2v14c0 1.1.9 2 2 2h14c1.1 0 2-.9 2-2V5c0-1.1-.9-2-2-2zM9 17H7v-7h2v7zm4 0h-2V7h2v10zm4 0h-2v-4h2v4z\"/>\n",
              "    </g>\n",
              "</svg>\n",
              "  </button>\n",
              "\n",
              "<style>\n",
              "  .colab-df-quickchart {\n",
              "      --bg-color: #E8F0FE;\n",
              "      --fill-color: #1967D2;\n",
              "      --hover-bg-color: #E2EBFA;\n",
              "      --hover-fill-color: #174EA6;\n",
              "      --disabled-fill-color: #AAA;\n",
              "      --disabled-bg-color: #DDD;\n",
              "  }\n",
              "\n",
              "  [theme=dark] .colab-df-quickchart {\n",
              "      --bg-color: #3B4455;\n",
              "      --fill-color: #D2E3FC;\n",
              "      --hover-bg-color: #434B5C;\n",
              "      --hover-fill-color: #FFFFFF;\n",
              "      --disabled-bg-color: #3B4455;\n",
              "      --disabled-fill-color: #666;\n",
              "  }\n",
              "\n",
              "  .colab-df-quickchart {\n",
              "    background-color: var(--bg-color);\n",
              "    border: none;\n",
              "    border-radius: 50%;\n",
              "    cursor: pointer;\n",
              "    display: none;\n",
              "    fill: var(--fill-color);\n",
              "    height: 32px;\n",
              "    padding: 0;\n",
              "    width: 32px;\n",
              "  }\n",
              "\n",
              "  .colab-df-quickchart:hover {\n",
              "    background-color: var(--hover-bg-color);\n",
              "    box-shadow: 0 1px 2px rgba(60, 64, 67, 0.3), 0 1px 3px 1px rgba(60, 64, 67, 0.15);\n",
              "    fill: var(--button-hover-fill-color);\n",
              "  }\n",
              "\n",
              "  .colab-df-quickchart-complete:disabled,\n",
              "  .colab-df-quickchart-complete:disabled:hover {\n",
              "    background-color: var(--disabled-bg-color);\n",
              "    fill: var(--disabled-fill-color);\n",
              "    box-shadow: none;\n",
              "  }\n",
              "\n",
              "  .colab-df-spinner {\n",
              "    border: 2px solid var(--fill-color);\n",
              "    border-color: transparent;\n",
              "    border-bottom-color: var(--fill-color);\n",
              "    animation:\n",
              "      spin 1s steps(1) infinite;\n",
              "  }\n",
              "\n",
              "  @keyframes spin {\n",
              "    0% {\n",
              "      border-color: transparent;\n",
              "      border-bottom-color: var(--fill-color);\n",
              "      border-left-color: var(--fill-color);\n",
              "    }\n",
              "    20% {\n",
              "      border-color: transparent;\n",
              "      border-left-color: var(--fill-color);\n",
              "      border-top-color: var(--fill-color);\n",
              "    }\n",
              "    30% {\n",
              "      border-color: transparent;\n",
              "      border-left-color: var(--fill-color);\n",
              "      border-top-color: var(--fill-color);\n",
              "      border-right-color: var(--fill-color);\n",
              "    }\n",
              "    40% {\n",
              "      border-color: transparent;\n",
              "      border-right-color: var(--fill-color);\n",
              "      border-top-color: var(--fill-color);\n",
              "    }\n",
              "    60% {\n",
              "      border-color: transparent;\n",
              "      border-right-color: var(--fill-color);\n",
              "    }\n",
              "    80% {\n",
              "      border-color: transparent;\n",
              "      border-right-color: var(--fill-color);\n",
              "      border-bottom-color: var(--fill-color);\n",
              "    }\n",
              "    90% {\n",
              "      border-color: transparent;\n",
              "      border-bottom-color: var(--fill-color);\n",
              "    }\n",
              "  }\n",
              "</style>\n",
              "\n",
              "  <script>\n",
              "    async function quickchart(key) {\n",
              "      const quickchartButtonEl =\n",
              "        document.querySelector('#' + key + ' button');\n",
              "      quickchartButtonEl.disabled = true;  // To prevent multiple clicks.\n",
              "      quickchartButtonEl.classList.add('colab-df-spinner');\n",
              "      try {\n",
              "        const charts = await google.colab.kernel.invokeFunction(\n",
              "            'suggestCharts', [key], {});\n",
              "      } catch (error) {\n",
              "        console.error('Error during call to suggestCharts:', error);\n",
              "      }\n",
              "      quickchartButtonEl.classList.remove('colab-df-spinner');\n",
              "      quickchartButtonEl.classList.add('colab-df-quickchart-complete');\n",
              "    }\n",
              "    (() => {\n",
              "      let quickchartButtonEl =\n",
              "        document.querySelector('#df-dab61750-8011-430c-8f26-aac0b2438ae9 button');\n",
              "      quickchartButtonEl.style.display =\n",
              "        google.colab.kernel.accessAllowed ? 'block' : 'none';\n",
              "    })();\n",
              "  </script>\n",
              "</div>\n",
              "    </div>\n",
              "  </div>\n"
            ],
            "application/vnd.google.colaboratory.intrinsic+json": {
              "type": "dataframe",
              "summary": "{\n  \"name\": \"corpus_es[0:2]\",\n  \"rows\": 2,\n  \"fields\": [\n    {\n      \"column\": \"0\",\n      \"properties\": {\n        \"dtype\": \"string\",\n        \"num_unique_values\": 2,\n        \"samples\": [\n          \"Fui, e hice muchos prisioneros.\",\n          \"Los nueve huevos, me los quedo.\"\n        ],\n        \"semantic_type\": \"\",\n        \"description\": \"\"\n      }\n    }\n  ]\n}"
            }
          },
          "metadata": {},
          "execution_count": 11
        }
      ],
      "source": [
        "corpus_es[0:2]"
      ]
    },
    {
      "cell_type": "code",
      "execution_count": 12,
      "metadata": {
        "id": "Oh_BvfEe8iS2",
        "colab": {
          "base_uri": "https://localhost:8080/"
        },
        "outputId": "2615dbce-b984-42d0-cc1d-458356580cc5"
      },
      "outputs": [
        {
          "output_type": "execute_result",
          "data": {
            "text/plain": [
              "(350, 350)"
            ]
          },
          "metadata": {},
          "execution_count": 12
        }
      ],
      "source": [
        "len(corpus_en), len(corpus_es)"
      ]
    },
    {
      "cell_type": "markdown",
      "metadata": {
        "id": "s-Y9v8-Tozl2"
      },
      "source": [
        "## Tokenizar el Texto"
      ]
    },
    {
      "cell_type": "markdown",
      "metadata": {
        "id": "OfKG3Jpk8iS2"
      },
      "source": [
        "Tokenizado del texto sin aplicar limpieza (aplicada en el apartado anterior) y sin padding:"
      ]
    },
    {
      "cell_type": "code",
      "execution_count": 13,
      "metadata": {
        "id": "0lXLuc4o8iS2"
      },
      "outputs": [],
      "source": [
        "if not os.path.isfile('processor_en.joblib'):\n",
        "    tokens_en = processor_en.process_text(corpus_en,\n",
        "                                             isclean=True,\n",
        "                                             padding=False)\n",
        "    dump(processor_en, 'processor_en.joblib')\n",
        "else:\n",
        "    processor_en = load('processor_en.joblib')"
      ]
    },
    {
      "cell_type": "code",
      "execution_count": 14,
      "metadata": {
        "id": "HxP320Bw8iS2"
      },
      "outputs": [],
      "source": [
        "if not os.path.isfile('processor_es.joblib'):\n",
        "    tokens_es = processor_es.process_text(corpus_es,\n",
        "                                             isclean=True,\n",
        "                                             padding=False)\n",
        "    dump(processor_es, 'processor_es.joblib')\n",
        "else:\n",
        "    processor_es = load('processor_es.joblib')"
      ]
    },
    {
      "cell_type": "markdown",
      "metadata": {
        "id": "kCWf4wME8iS2"
      },
      "source": [
        "Tamaño de Vocabulario para los dos idiomas."
      ]
    },
    {
      "cell_type": "code",
      "execution_count": 15,
      "metadata": {
        "id": "ftIbPzIwCtwL",
        "colab": {
          "base_uri": "https://localhost:8080/"
        },
        "outputId": "8f8274b0-7f6a-4b8c-ef61-4cdd26e85319"
      },
      "outputs": [
        {
          "output_type": "stream",
          "name": "stdout",
          "text": [
            "1349 1446\n"
          ]
        }
      ],
      "source": [
        "if not os.path.isfile(\"inputs.csv\") and not os.path.isfile(\"outputs.csv\"):\n",
        "    VOCAB_SIZE_EN = processor_en.tokenizer.vocab_size + 2\n",
        "    VOCAB_SIZE_ES = processor_es.tokenizer.vocab_size + 2\n",
        "\n",
        "    print(VOCAB_SIZE_EN, VOCAB_SIZE_ES)"
      ]
    },
    {
      "cell_type": "markdown",
      "metadata": {
        "id": "ylEOnbUW8iS2"
      },
      "source": [
        "Sustituimos los valores NaN con valores vacios:"
      ]
    },
    {
      "cell_type": "code",
      "execution_count": 16,
      "metadata": {
        "id": "oi7TzB9y8iS3"
      },
      "outputs": [],
      "source": [
        "if not os.path.isfile(\"inputs.csv\") and not os.path.isfile(\"outputs.csv\"):\n",
        "    corpus_es = corpus_es.fillna(\" \")\n",
        "    corpus_en = corpus_en.fillna(\" \")"
      ]
    },
    {
      "cell_type": "markdown",
      "metadata": {
        "id": "6oJy5XV38iS3"
      },
      "source": [
        "Preparación de las frases como inputs/outputs del Modelo:\n",
        "\n",
        "> _**[ \\INICIO ]**_ + frase + _**[ \\FIN ]**_\n",
        "\n",
        "- **[ \\INICIO ]**: Carácter que determina el inicio de frase.\n",
        "- **[ \\FIN ]**: Carácter que determina el final de frase."
      ]
    },
    {
      "cell_type": "code",
      "execution_count": 17,
      "metadata": {
        "id": "oPFe2YJDC9jw"
      },
      "outputs": [],
      "source": [
        "if not os.path.isfile(\"inputs.csv\") and not os.path.isfile(\"outputs.csv\"):\n",
        "    inputs = [[VOCAB_SIZE_EN-2] + \\\n",
        "              processor_en.tokenizer.encode(sentence[0]) + [VOCAB_SIZE_EN-1] \\\n",
        "                for sentence in corpus_en.values]\n",
        "\n",
        "    outputs = [[VOCAB_SIZE_ES-2] + \\\n",
        "               processor_es.tokenizer.encode(sentence[0]) + [VOCAB_SIZE_ES-1]\n",
        "                for sentence in corpus_es.values ]\n",
        "    len(inputs), len(outputs)"
      ]
    },
    {
      "cell_type": "markdown",
      "metadata": {
        "id": "bG6AlcFMpC5C"
      },
      "source": [
        "## Eliminamos las frases demasiado largas"
      ]
    },
    {
      "cell_type": "code",
      "execution_count": 18,
      "metadata": {
        "id": "F6CD6PLGyQWy"
      },
      "outputs": [],
      "source": [
        "MAX_LENGTH = 20\n",
        "\n",
        "if not os.path.isfile(\"inputs.csv\") and not os.path.isfile(\"outputs.csv\"):\n",
        "    idx_to_remove = [count for count, sent in enumerate(inputs)\n",
        "                     if len(sent) > MAX_LENGTH]\n",
        "    if len(idx_to_remove) > 0:\n",
        "        for idx in reversed(idx_to_remove):\n",
        "            del inputs[idx]\n",
        "            del outputs[idx]\n",
        "\n",
        "    idx_to_remove = [count for count, sent in enumerate(outputs)\n",
        "                     if len(sent) > MAX_LENGTH]\n",
        "    if len(idx_to_remove) > 0:\n",
        "        for idx in reversed(idx_to_remove):\n",
        "            del inputs[idx]\n",
        "            del outputs[idx]\n",
        "\n",
        "    pd.DataFrame(inputs).to_csv(\"inputs.csv\", index=False)\n",
        "    pd.DataFrame(outputs).to_csv(\"outputs.csv\", index=False)"
      ]
    },
    {
      "cell_type": "markdown",
      "metadata": {
        "id": "Ypm8h5aZQTZ1"
      },
      "source": [
        "## Creamos las entradas y las salidas"
      ]
    },
    {
      "cell_type": "markdown",
      "metadata": {
        "id": "9FP0WPsdM8hl"
      },
      "source": [
        "A medida que entrenamos con bloques, necesitaremos que cada entrada tenga la misma longitud. Rellenamos con el token apropiado, y nos aseguraremos de que este token de relleno no interfiera con nuestro entrenamiento más adelante."
      ]
    },
    {
      "cell_type": "code",
      "execution_count": 19,
      "metadata": {
        "id": "eeBkFkfg8iS3",
        "colab": {
          "base_uri": "https://localhost:8080/"
        },
        "outputId": "79706b5e-fcb4-49c5-e8a5-e638c8563983"
      },
      "outputs": [
        {
          "output_type": "execute_result",
          "data": {
            "text/plain": [
              "(350, 350)"
            ]
          },
          "metadata": {},
          "execution_count": 19
        }
      ],
      "source": [
        "inputs = pd.read_csv(\"inputs.csv\").fillna(0).astype(int)\n",
        "outputs = pd.read_csv(\"outputs.csv\").fillna(0).astype(int)\n",
        "\n",
        "len(inputs), len(outputs)"
      ]
    },
    {
      "cell_type": "code",
      "execution_count": 20,
      "metadata": {
        "id": "nvDfLDWUONlE"
      },
      "outputs": [],
      "source": [
        "MAX_LENGTH = 20\n",
        "\n",
        "VOCAB_SIZE_EN = 1349\n",
        "VOCAB_SIZE_ES = 1446\n",
        "\n",
        "inputs = tf.keras.preprocessing.sequence.pad_sequences(inputs.values,\n",
        "                                                       value=0,\n",
        "                                                       padding='post',\n",
        "                                                       maxlen=MAX_LENGTH)\n",
        "outputs = tf.keras.preprocessing.sequence.pad_sequences(outputs.values,\n",
        "                                                        value=0,\n",
        "                                                        padding='post',\n",
        "                                                        maxlen=MAX_LENGTH)"
      ]
    },
    {
      "cell_type": "markdown",
      "metadata": {
        "id": "4xTbiEZe8iS6"
      },
      "source": [
        "Se crea el daset generador para servir los inputs/outputs procesados."
      ]
    },
    {
      "cell_type": "code",
      "execution_count": 51,
      "metadata": {
        "id": "wFxMp3TOIYff"
      },
      "outputs": [],
      "source": [
        "BATCH_SIZE = 8\n",
        "BUFFER_SIZE = 2000\n",
        "\n",
        "dataset = tf.data.Dataset.from_tensor_slices((inputs, outputs))\n",
        "\n",
        "dataset = dataset.cache()\n",
        "dataset = dataset.shuffle(BUFFER_SIZE).batch(BATCH_SIZE)\n",
        "dataset = dataset.prefetch(tf.data.experimental.AUTOTUNE)"
      ]
    },
    {
      "cell_type": "code",
      "source": [
        "len(dataset)"
      ],
      "metadata": {
        "colab": {
          "base_uri": "https://localhost:8080/"
        },
        "id": "2O2FKv4mrLyD",
        "outputId": "f9b105a3-b1fb-42b6-8fc0-24155b4b6962"
      },
      "execution_count": 52,
      "outputs": [
        {
          "output_type": "execute_result",
          "data": {
            "text/plain": [
              "44"
            ]
          },
          "metadata": {},
          "execution_count": 52
        }
      ]
    },
    {
      "cell_type": "markdown",
      "metadata": {
        "id": "-c-LRThUPrso"
      },
      "source": [
        "## Modelo Transformer - Entrenamiento"
      ]
    },
    {
      "cell_type": "code",
      "execution_count": 55,
      "metadata": {
        "id": "qiOdqQ5qPs8z"
      },
      "outputs": [],
      "source": [
        "tf.keras.backend.clear_session()\n",
        "\n",
        "# Hiper Parámetros\n",
        "D_MODEL = 128 # 512\n",
        "NB_LAYERS = 4 # 6\n",
        "FFN_UNITS = 512 # 2048\n",
        "NB_PROJ = 8 # 8\n",
        "DROPOUT_RATE = 0.1 # 0.1\n",
        "\n",
        "model_Transformer = Transformer(vocab_size_enc=VOCAB_SIZE_EN,\n",
        "                          vocab_size_dec=VOCAB_SIZE_ES,\n",
        "                          d_model=D_MODEL,\n",
        "                          nb_layers=NB_LAYERS,\n",
        "                          FFN_units=FFN_UNITS,\n",
        "                          nb_proj=NB_PROJ,\n",
        "                          dropout_rate=DROPOUT_RATE)"
      ]
    },
    {
      "cell_type": "markdown",
      "metadata": {
        "id": "txxGL5q48iS6"
      },
      "source": [
        "Bucle de entrenamiento"
      ]
    },
    {
      "cell_type": "code",
      "execution_count": 56,
      "metadata": {
        "id": "REap0thd8iS6",
        "outputId": "4f193839-2052-4ead-b16b-2ece3fe648ed",
        "colab": {
          "base_uri": "https://localhost:8080/"
        },
        "collapsed": true
      },
      "outputs": [
        {
          "output_type": "stream",
          "name": "stdout",
          "text": [
            "The last checkpoint has been restored\n",
            "Inicio del epoch 1\n",
            "Epoch 1 Lote 0 Pérdida 2.2807 Precisión 0.1053\n",
            "Guardando checkpoint para el epoch 1 en ckpt/ckpt-11\n",
            "Tiempo que ha tardado 1 epoch: 48.483463287353516 segs\n",
            "\n",
            "Inicio del epoch 2\n",
            "Epoch 2 Lote 0 Pérdida 2.1467 Precisión 0.0987\n",
            "Guardando checkpoint para el epoch 2 en ckpt/ckpt-12\n",
            "Tiempo que ha tardado 1 epoch: 4.685259103775024 segs\n",
            "\n",
            "Inicio del epoch 3\n",
            "Epoch 3 Lote 0 Pérdida 2.2126 Precisión 0.1118\n",
            "Guardando checkpoint para el epoch 3 en ckpt/ckpt-13\n",
            "Tiempo que ha tardado 1 epoch: 5.510631084442139 segs\n",
            "\n",
            "Inicio del epoch 4\n",
            "Epoch 4 Lote 0 Pérdida 2.2166 Precisión 0.1250\n",
            "Guardando checkpoint para el epoch 4 en ckpt/ckpt-14\n",
            "Tiempo que ha tardado 1 epoch: 10.578659534454346 segs\n",
            "\n",
            "Inicio del epoch 5\n",
            "Epoch 5 Lote 0 Pérdida 1.9165 Precisión 0.0987\n",
            "Guardando checkpoint para el epoch 5 en ckpt/ckpt-15\n",
            "Tiempo que ha tardado 1 epoch: 10.532764196395874 segs\n",
            "\n",
            "Inicio del epoch 6\n",
            "Epoch 6 Lote 0 Pérdida 1.7642 Precisión 0.1447\n",
            "Guardando checkpoint para el epoch 6 en ckpt/ckpt-16\n",
            "Tiempo que ha tardado 1 epoch: 10.509465456008911 segs\n",
            "\n",
            "Inicio del epoch 7\n",
            "Epoch 7 Lote 0 Pérdida 1.8272 Precisión 0.1184\n",
            "Guardando checkpoint para el epoch 7 en ckpt/ckpt-17\n",
            "Tiempo que ha tardado 1 epoch: 5.4050726890563965 segs\n",
            "\n",
            "Inicio del epoch 8\n",
            "Epoch 8 Lote 0 Pérdida 1.9508 Precisión 0.1447\n",
            "Guardando checkpoint para el epoch 8 en ckpt/ckpt-18\n",
            "Tiempo que ha tardado 1 epoch: 6.9842164516448975 segs\n",
            "\n",
            "Inicio del epoch 9\n",
            "Epoch 9 Lote 0 Pérdida 2.2046 Precisión 0.1513\n",
            "Guardando checkpoint para el epoch 9 en ckpt/ckpt-19\n",
            "Tiempo que ha tardado 1 epoch: 5.400350332260132 segs\n",
            "\n",
            "Inicio del epoch 10\n",
            "Epoch 10 Lote 0 Pérdida 2.0963 Precisión 0.1447\n",
            "Guardando checkpoint para el epoch 10 en ckpt/ckpt-20\n",
            "Tiempo que ha tardado 1 epoch: 6.647388696670532 segs\n",
            "\n",
            "Inicio del epoch 11\n",
            "Epoch 11 Lote 0 Pérdida 1.4012 Precisión 0.1842\n",
            "Guardando checkpoint para el epoch 11 en ckpt/ckpt-21\n",
            "Tiempo que ha tardado 1 epoch: 5.2586023807525635 segs\n",
            "\n",
            "Inicio del epoch 12\n",
            "Epoch 12 Lote 0 Pérdida 1.7263 Precisión 0.1513\n",
            "Guardando checkpoint para el epoch 12 en ckpt/ckpt-22\n",
            "Tiempo que ha tardado 1 epoch: 5.600860595703125 segs\n",
            "\n",
            "Inicio del epoch 13\n",
            "Epoch 13 Lote 0 Pérdida 1.4684 Precisión 0.1645\n",
            "Guardando checkpoint para el epoch 13 en ckpt/ckpt-23\n",
            "Tiempo que ha tardado 1 epoch: 10.570504426956177 segs\n",
            "\n",
            "Inicio del epoch 14\n",
            "Epoch 14 Lote 0 Pérdida 1.4449 Precisión 0.1645\n",
            "Guardando checkpoint para el epoch 14 en ckpt/ckpt-24\n",
            "Tiempo que ha tardado 1 epoch: 10.51136326789856 segs\n",
            "\n",
            "Inicio del epoch 15\n",
            "Epoch 15 Lote 0 Pérdida 1.5681 Precisión 0.1842\n",
            "Guardando checkpoint para el epoch 15 en ckpt/ckpt-25\n",
            "Tiempo que ha tardado 1 epoch: 5.410543918609619 segs\n",
            "\n",
            "Inicio del epoch 16\n",
            "Epoch 16 Lote 0 Pérdida 1.6309 Precisión 0.1974\n",
            "Guardando checkpoint para el epoch 16 en ckpt/ckpt-26\n",
            "Tiempo que ha tardado 1 epoch: 10.56143069267273 segs\n",
            "\n",
            "Inicio del epoch 17\n",
            "Epoch 17 Lote 0 Pérdida 1.5158 Precisión 0.2039\n",
            "Guardando checkpoint para el epoch 17 en ckpt/ckpt-27\n",
            "Tiempo que ha tardado 1 epoch: 6.564703941345215 segs\n",
            "\n",
            "Inicio del epoch 18\n",
            "Epoch 18 Lote 0 Pérdida 1.2876 Precisión 0.1908\n",
            "Guardando checkpoint para el epoch 18 en ckpt/ckpt-28\n",
            "Tiempo que ha tardado 1 epoch: 5.029402256011963 segs\n",
            "\n",
            "Inicio del epoch 19\n",
            "Epoch 19 Lote 0 Pérdida 1.0799 Precisión 0.2171\n",
            "Guardando checkpoint para el epoch 19 en ckpt/ckpt-29\n",
            "Tiempo que ha tardado 1 epoch: 5.580942869186401 segs\n",
            "\n",
            "Inicio del epoch 20\n",
            "Epoch 20 Lote 0 Pérdida 1.0638 Precisión 0.2171\n",
            "Guardando checkpoint para el epoch 20 en ckpt/ckpt-30\n",
            "Tiempo que ha tardado 1 epoch: 7.2516868114471436 segs\n",
            "\n"
          ]
        }
      ],
      "source": [
        "EPOCHS = 20\n",
        "\n",
        "Transformer_train(model_Transformer,\n",
        "                  dataset,\n",
        "                  d_model=D_MODEL,\n",
        "                  train=TRAIN,\n",
        "                  epochs=EPOCHS,\n",
        "                  checkpoint_path=\"ckpt/\",\n",
        "                  max_to_keep=2)"
      ]
    },
    {
      "cell_type": "markdown",
      "metadata": {
        "id": "nmzyRwDrRGdq"
      },
      "source": [
        "## Evaluación"
      ]
    },
    {
      "cell_type": "code",
      "execution_count": 57,
      "metadata": {
        "id": "cNHwJJrz3lPB"
      },
      "outputs": [],
      "source": [
        "def evaluate(inp_sentence):\n",
        "    inp_sentence = \\\n",
        "        [VOCAB_SIZE_EN-2] + processor_en.tokenizer.encode(inp_sentence) + [VOCAB_SIZE_EN-1]\n",
        "    enc_input = tf.expand_dims(inp_sentence, axis=0)\n",
        "\n",
        "    output = tf.expand_dims([VOCAB_SIZE_ES-2], axis=0)\n",
        "\n",
        "    for _ in range(MAX_LENGTH):\n",
        "        predictions = model_Transformer(enc_input, output, False) #(1, seq_length, VOCAB_SIZE_ES)\n",
        "\n",
        "        prediction = predictions[:, -1:, :]\n",
        "\n",
        "        predicted_id = tf.cast(tf.argmax(prediction, axis=-1), tf.int32)\n",
        "\n",
        "        if predicted_id == VOCAB_SIZE_ES-1:\n",
        "            return tf.squeeze(output, axis=0)\n",
        "\n",
        "        output = tf.concat([output, predicted_id], axis=-1)\n",
        "\n",
        "    return tf.squeeze(output, axis=0)"
      ]
    },
    {
      "cell_type": "code",
      "execution_count": 58,
      "metadata": {
        "id": "s6VeFKrE6Kdx"
      },
      "outputs": [],
      "source": [
        "def translate(sentence):\n",
        "    output = evaluate(sentence).numpy()\n",
        "\n",
        "    predicted_sentence = processor_es.tokenizer.decode(\n",
        "        [i for i in output if i < VOCAB_SIZE_ES-2]\n",
        "    )\n",
        "\n",
        "    print(\"Entrada: {}\".format(sentence))\n",
        "    print(\"Traducción predicha: {}\".format(predicted_sentence))"
      ]
    },
    {
      "cell_type": "markdown",
      "metadata": {
        "id": "nacSJLvx8iS7"
      },
      "source": [
        "## Predicciones"
      ]
    },
    {
      "cell_type": "code",
      "execution_count": 59,
      "metadata": {
        "id": "VconAWM88iS7",
        "outputId": "2b120908-87a8-47d9-83c3-c69d48335de9",
        "colab": {
          "base_uri": "https://localhost:8080/"
        }
      },
      "outputs": [
        {
          "output_type": "stream",
          "name": "stdout",
          "text": [
            "Entrada: I did go\n",
            "Traducción predicha: Y lo dijo con dijo .\n"
          ]
        }
      ],
      "source": [
        "translate(\"I did go\")"
      ]
    },
    {
      "cell_type": "code",
      "execution_count": 60,
      "metadata": {
        "colab": {
          "base_uri": "https://localhost:8080/"
        },
        "id": "BupFjJlgDvCA",
        "outputId": "22459996-c86d-4663-af2e-7088168a5364"
      },
      "outputs": [
        {
          "output_type": "stream",
          "name": "stdout",
          "text": [
            "Entrada: This is a problem we have to solve.\n",
            "Traducción predicha: Y su su su su su su su su su de la mejor de la cola y la mejor de \n"
          ]
        }
      ],
      "source": [
        "translate(\"This is a problem we have to solve.\")"
      ]
    },
    {
      "cell_type": "code",
      "execution_count": 61,
      "metadata": {
        "colab": {
          "base_uri": "https://localhost:8080/"
        },
        "id": "ZdoWKbCP7Czs",
        "outputId": "727b5465-f9c8-43ec-f1e9-8ddf921acc71"
      },
      "outputs": [
        {
          "output_type": "stream",
          "name": "stdout",
          "text": [
            "Entrada: This is a really powerful tool!\n",
            "Traducción predicha: ¡El que es la esposa es el uno de la !\n"
          ]
        }
      ],
      "source": [
        "translate(\"This is a really powerful tool!\")"
      ]
    },
    {
      "cell_type": "code",
      "execution_count": 62,
      "metadata": {
        "colab": {
          "base_uri": "https://localhost:8080/"
        },
        "id": "UGjBEb5WFMGt",
        "outputId": "45062caf-4744-4b5f-8a89-8a64e51a9a7c"
      },
      "outputs": [
        {
          "output_type": "stream",
          "name": "stdout",
          "text": [
            "Entrada: This is an interesting course about Natural Language Processing\n",
            "Traducción predicha: El Tom y la canción se llama and día.\n"
          ]
        }
      ],
      "source": [
        "translate(\"This is an interesting course about Natural Language Processing\")"
      ]
    },
    {
      "cell_type": "markdown",
      "metadata": {
        "id": "0A9tOCdQ8iS8"
      },
      "source": [
        "***"
      ]
    }
  ],
  "metadata": {
    "colab": {
      "provenance": [],
      "include_colab_link": true
    },
    "kernelspec": {
      "display_name": "Python 3",
      "name": "python3"
    },
    "language_info": {
      "codemirror_mode": {
        "name": "ipython",
        "version": 3
      },
      "file_extension": ".py",
      "mimetype": "text/x-python",
      "name": "python",
      "nbconvert_exporter": "python",
      "pygments_lexer": "ipython3",
      "version": "3.6.9"
    }
  },
  "nbformat": 4,
  "nbformat_minor": 0
}